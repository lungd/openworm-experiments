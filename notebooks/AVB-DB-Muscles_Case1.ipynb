{
 "cells": [
  {
   "cell_type": "code",
   "execution_count": null,
   "metadata": {
    "collapsed": true
   },
   "outputs": [],
   "source": [
    "from IPython.display import Image, display\n",
    "display(Image(filename='files/myimage.png', embed=True))"
   ]
  },
  {
   "cell_type": "markdown",
   "metadata": {},
   "source": [
    "Network:\n",
    "\n",
    "    AVBL, AVBR, DB1, DB2, DB3, DB4, DB5, DB6, DB7\n",
    "    All the dorsal muscles with a chemical synapse from DB-MN to the muscle \n",
    "\n",
    "Simulation:\n",
    "\n",
    "    duration: 1000 ms\n",
    "    dt: 0.05\n",
    "\n",
    "Injected current:\n",
    "\n",
    "    Target: AVB(L/R)\n",
    "    Current: 15 pA\n",
    "    Time: 50 ms <= t < 900 ms\n",
    "\n",
    "Parameters to optimize:\n",
    "\n",
    "    conductance, sigma, mu of the delayed gap-junctions.\n",
    "    conductance of the chemical-synapses.\n",
    "    \n",
    "    Delayed gap-junctions:\n",
    "        AVB(L/R) - DB(1-7)\n",
    "        DB(1-7) - AVB(L/R)\n",
    "            conductance range: [0.00052, 0.06252] nS\n",
    "            sigma range: [0.1, 0.9] per_mV\n",
    "            mu range: [-70, 20] mV\n",
    "        \n",
    "    gap-junctions (without delay)\n",
    "        DB1 - DB2\n",
    "        DB2 - DB1\n",
    "        ...\n",
    "        DB6 - DB7\n",
    "        DB7 - DB6\n",
    "            conductance range: [0.00002, 0.04252] nS\n",
    "            \n",
    "        \n",
    "        muscle - muscle\n",
    "            conductance range: [0.00002, 0.00050] nS\n",
    "        \n",
    "    Chemical synapses:\n",
    "        DB(1-7) - dorsal muscles\n",
    "            conductance range: [0.02, 2] nS\n",
    "        \n",
    "Targets of the optimization:\n",
    "\n",
    "    \"first spike time\" of DB motor neurons.\n",
    "    spike threshold: -20 mV\n",
    "    \n",
    "    DB1 at t=115 ms\n",
    "    DB2 at t=125 ms\n",
    "    DB3 at t=135 ms\n",
    "    DB4 at t=145 ms\n",
    "    DB5 at t=155 ms\n",
    "    DB6 at t=165 ms\n",
    "    DB7 at t=175 ms"
   ]
  }
 ],
 "metadata": {
  "kernelspec": {
   "display_name": "Python 2",
   "language": "python",
   "name": "python2"
  },
  "language_info": {
   "codemirror_mode": {
    "name": "ipython",
    "version": 2
   },
   "file_extension": ".py",
   "mimetype": "text/x-python",
   "name": "python",
   "nbconvert_exporter": "python",
   "pygments_lexer": "ipython2",
   "version": "2.7.12"
  }
 },
 "nbformat": 4,
 "nbformat_minor": 2
}
